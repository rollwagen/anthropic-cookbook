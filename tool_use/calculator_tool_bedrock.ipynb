{
 "cells": [
  {
   "cell_type": "markdown",
   "metadata": {},
   "source": [
    "# Using a Calculator Tool with Claude\n",
    "In this recipe, we'll demonstrate how to provide Claude with a simple calculator tool that it can use to perform arithmetic operations based on user input. We'll define the calculator tool and show how Claude can interact with it to solve mathematical problems."
   ]
  },
  {
   "cell_type": "markdown",
   "metadata": {},
   "source": [
    "## Step 1: Set up the environment\n",
    "\n",
    "First, let's install the required libraries and set up the Anthropic API client."
   ]
  },
  {
   "cell_type": "code",
   "execution_count": null,
   "metadata": {},
   "outputs": [],
   "source": [
    "%pip install boto3"
   ]
  },
  {
   "cell_type": "code",
   "execution_count": 1,
   "metadata": {},
   "outputs": [],
   "source": [
    "import os\n",
    "import boto3\n",
    "\n",
    "# \"anthropic.claude-3-haiku-20240307-v1:0\"  \"anthropic.claude-3-sonnet-20240229-v1:0\"  \"anthropic.claude-3-opus-20240229-v1:0\"\n",
    "MODEL_ID = \"anthropic.claude-3-opus-20240229-v1:0\"\n",
    "\n",
    "region_name= os.getenv(\"AWS_REGION\", default=\"us-west-2\")\n",
    "bedrock_client = boto3.client(service_name='bedrock-runtime', region_name=region_name)"
   ]
  },
  {
   "cell_type": "markdown",
   "metadata": {},
   "source": [
    "## Step 2: Define the calculator tool\n",
    "We'll define a simple calculator tool that can perform basic arithmetic operations. The tool will take a mathematical expression as input and return the result. \n",
    "\n",
    "Note that we are calling ```eval``` on the outputted expression. This is bad practice and should not be used generally but we are doing it for the purpose of demonstration."
   ]
  },
  {
   "cell_type": "code",
   "execution_count": 2,
   "metadata": {},
   "outputs": [],
   "source": [
    "import re\n",
    "\n",
    "def calculate(expression):\n",
    "    # Remove any non-digit or non-operator characters from the expression\n",
    "    expression = re.sub(r'[^0-9+\\-*/().]', '', expression)\n",
    "    \n",
    "    try:\n",
    "        # Evaluate the expression using the built-in eval() function\n",
    "        result = eval(expression)\n",
    "        return str(result)\n",
    "    except (SyntaxError, ZeroDivisionError, NameError, TypeError, OverflowError):\n",
    "        return \"Error: Invalid expression\"\n",
    "\n",
    "tool_spec = {\n",
    "     \"name\": \"calculator\",\n",
    "     \"description\": \"A simple calculator that performs basic arithmetic operations.\",\n",
    "     \"inputSchema\": {\n",
    "         \"json\": {\n",
    "            \"type\": \"object\",\n",
    "            \"properties\": {\n",
    "                   \"expression\": {\n",
    "                       \"type\": \"string\",\n",
    "                       \"description\": \"The mathematical expression to evaluate (e.g., '2 + 3 * 4').\"\n",
    "                    }\n",
    "            },\n",
    "             \"required\": [\"expression\"]\n",
    "         }\n",
    "    }\n",
    "}"
   ]
  },
  {
   "cell_type": "markdown",
   "metadata": {},
   "source": [
    "In this example, we define a calculate function that takes a mathematical expression as input, removes any non-digit or non-operator characters using a regular expression, and then evaluates the expression using the built-in eval() function. If the evaluation is successful, the result is returned as a string. If an error occurs during evaluation, an error message is returned.\n",
    "\n",
    "We then define the calculator tool with an input schema that expects a single expression property of type string."
   ]
  },
  {
   "cell_type": "markdown",
   "metadata": {},
   "source": [
    "## Step 3: Interact with Claude\n",
    "Now, let's see how Claude can interact with the calculator tool to solve mathematical problems."
   ]
  },
  {
   "cell_type": "code",
   "execution_count": 3,
   "metadata": {},
   "outputs": [],
   "source": [
    "def process_tool_call(tool_name, tool_input):\n",
    "    if tool_name == \"calculator\":\n",
    "        return calculate(tool_input[\"expression\"])\n",
    "\n",
    "def chat_with_claude(user_message):\n",
    "    print(f\"\\n{'='*50}\\nUser Message: {user_message}\\n{'='*50}\")\n",
    "\n",
    "    \n",
    "    converse_response = bedrock_client.converse(\n",
    "        modelId=MODEL_ID,\n",
    "        messages = [{\n",
    "            \"role\": \"user\",\n",
    "            \"content\": [{\"text\": user_message}]\n",
    "        }],\n",
    "        inferenceConfig = {\"maxTokens\": 4096},\n",
    "        toolConfig = {\n",
    "            'tools': [\n",
    "                {\n",
    "                    'toolSpec': tool_spec\n",
    "                }\n",
    "            ]\n",
    "        }\n",
    "    )\n",
    "    message = converse_response['output']['message']\n",
    "\n",
    "    print(f\"\\nInitial Response:\")\n",
    "    print(f\"Stop Reason: {converse_response['stopReason']}\")\n",
    "    print(f\"Content: {message['content']}\")\n",
    "\n",
    "    if converse_response['stopReason'] == \"tool_use\":\n",
    "        tool_use = next(block['toolUse'] for block in message['content'] if block.get('toolUse'))\n",
    "        tool_name = tool_use[\"name\"]\n",
    "        tool_input = tool_use[\"input\"]\n",
    "\n",
    "        print(f\"\\nTool Used: {tool_name}\")\n",
    "        print(f\"Tool Input: {tool_input}\")\n",
    "\n",
    "        tool_result = process_tool_call(tool_name, tool_input)\n",
    "\n",
    "        print(f\"Tool Result: {tool_result}\")\n",
    "\n",
    "        converse_response = bedrock_client.converse(\n",
    "            modelId=MODEL_ID,\n",
    "            inferenceConfig={\"maxTokens\": 4096},\n",
    "            messages=[\n",
    "                {\"role\": \"user\", \"content\": [{\"text\": user_message}]},\n",
    "                {\"role\": \"assistant\", \"content\": message['content']},\n",
    "                {\n",
    "                    \"role\": \"user\",\n",
    "                    \"content\": [\n",
    "                        {\n",
    "                            \"toolResult\": {\n",
    "                                \"toolUseId\": tool_use['toolUseId'],\n",
    "                                \"content\": [{\"text\": tool_result}],\n",
    "                            }\n",
    "                        }\n",
    "                    ],\n",
    "                },\n",
    "            ],\n",
    "            toolConfig={\n",
    "                'tools': [\n",
    "                    {\n",
    "                        'toolSpec': tool_spec\n",
    "                    }\n",
    "                ]\n",
    "            }\n",
    "        )\n",
    "        message = converse_response['output']['message']\n",
    "    \n",
    "    else:\n",
    "        response = message\n",
    "\n",
    "\n",
    "    final_response = next(\n",
    "        (block['text'] for block in message['content'] if block.get('text')),\n",
    "        None,\n",
    "    )\n",
    "    print(message['content'])\n",
    "    print(f\"\\nFinal Response: {final_response}\")\n",
    "\n",
    "    return final_response"
   ]
  },
  {
   "cell_type": "markdown",
   "metadata": {},
   "source": [
    "## Step 4: Try it out!\n",
    "\n",
    "Let's try giving Claude a few example math questions now that it has access to a calculator."
   ]
  },
  {
   "cell_type": "code",
   "execution_count": 4,
   "metadata": {},
   "outputs": [
    {
     "name": "stdout",
     "output_type": "stream",
     "text": [
      "\n",
      "==================================================\n",
      "User Message: What is the result of 1,984,135 * 9,343,116?\n",
      "==================================================\n",
      "\n",
      "Initial Response:\n",
      "Stop Reason: tool_use\n",
      "Content: [{'text': '<thinking>\\nThe user is asking for the result of a mathematical expression. The calculator tool is the only relevant tool for this request. \\nThe calculator tool requires an \"expression\" parameter. The user has directly provided the mathematical expression to evaluate in their request: 1,984,135 * 9,343,116.\\nThe user has provided all the necessary information for the calculator tool, so I can proceed with calling the tool to get the answer to their question.\\n</thinking>'}, {'toolUse': {'toolUseId': 'tooluse_TXrclbc6TaiRXpcDX7xY2g', 'name': 'calculator', 'input': {'expression': '1984135 * 9343116'}}}]\n",
      "\n",
      "Tool Used: calculator\n",
      "Tool Input: {'expression': '1984135 * 9343116'}\n",
      "Tool Result: 18538003464660\n",
      "[{'text': 'Therefore, the result of 1,984,135 * 9,343,116 is 18,538,003,464,660.'}]\n",
      "\n",
      "Final Response: Therefore, the result of 1,984,135 * 9,343,116 is 18,538,003,464,660.\n",
      "\n",
      "==================================================\n",
      "User Message: Calculate (12851 - 593) * 301 + 76\n",
      "==================================================\n",
      "\n",
      "Initial Response:\n",
      "Stop Reason: tool_use\n",
      "Content: [{'text': \"<thinking>\\nThe user has provided an arithmetic expression to evaluate:\\n(12851 - 593) * 301 + 76\\n\\nThe expression contains addition, subtraction, and multiplication operations. To evaluate it, we need to:\\n1. Perform the operation inside the parentheses first:  12851 - 593 = 12258\\n2. Multiply the result of step 1 by 301:  12258 * 301 = 3689658 \\n3. Add 76 to the result of step 2: 3689658 + 76 = 3689734\\n\\nThe calculator tool is directly relevant for evaluating this expression. It requires an 'expression' parameter, which the user has provided in full. We have all the necessary information to make the tool call.\\n</thinking>\"}, {'toolUse': {'toolUseId': 'tooluse_EsHvg-IeSMiagL1Mh_d4fg', 'name': 'calculator', 'input': {'expression': '(12851 - 593) * 301 + 76'}}}]\n",
      "\n",
      "Tool Used: calculator\n",
      "Tool Input: {'expression': '(12851 - 593) * 301 + 76'}\n",
      "Tool Result: 3689734\n",
      "[{'text': 'So, the result of calculating (12851 - 593) * 301 + 76 is 3689734.'}]\n",
      "\n",
      "Final Response: So, the result of calculating (12851 - 593) * 301 + 76 is 3689734.\n",
      "\n",
      "==================================================\n",
      "User Message: What is 15910385 divided by 193053?\n",
      "==================================================\n",
      "\n",
      "Initial Response:\n",
      "Stop Reason: tool_use\n",
      "Content: [{'text': \"<thinking>\\nTo answer this question, the calculator tool should be used. The calculator takes an arithmetic expression as input and returns the result.\\n\\nThe user's question directly provides the arithmetic expression needed: 15910385 divided by 193053.\\n\\nNo other information is needed, so we can proceed with calling the calculator tool with this expression.\\n</thinking>\"}, {'toolUse': {'toolUseId': 'tooluse_EYwFPAPYQt6piuHsuno4_g', 'name': 'calculator', 'input': {'expression': '15910385 / 193053'}}}]\n",
      "\n",
      "Tool Used: calculator\n",
      "Tool Input: {'expression': '15910385 / 193053'}\n",
      "Tool Result: 82.41459599177428\n",
      "[{'text': 'Therefore, 15910385 divided by 193053 equals 82.41459599177428.'}]\n",
      "\n",
      "Final Response: Therefore, 15910385 divided by 193053 equals 82.41459599177428.\n"
     ]
    },
    {
     "data": {
      "text/plain": [
       "'Therefore, 15910385 divided by 193053 equals 82.41459599177428.'"
      ]
     },
     "execution_count": 4,
     "metadata": {},
     "output_type": "execute_result"
    }
   ],
   "source": [
    "chat_with_claude(\"What is the result of 1,984,135 * 9,343,116?\")\n",
    "chat_with_claude(\"Calculate (12851 - 593) * 301 + 76\")\n",
    "chat_with_claude(\"What is 15910385 divided by 193053?\")"
   ]
  }
 ],
 "metadata": {
  "kernelspec": {
   "display_name": "Python 3 (ipykernel)",
   "language": "python",
   "name": "python3"
  },
  "language_info": {
   "codemirror_mode": {
    "name": "ipython",
    "version": 3
   },
   "file_extension": ".py",
   "mimetype": "text/x-python",
   "name": "python",
   "nbconvert_exporter": "python",
   "pygments_lexer": "ipython3",
   "version": "3.12.3"
  }
 },
 "nbformat": 4,
 "nbformat_minor": 4
}
